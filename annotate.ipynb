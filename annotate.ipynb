{
 "cells": [
  {
   "cell_type": "markdown",
   "metadata": {},
   "source": [
    "Import JSON data scraped with subreddit_scraper.py and annotate using SUTime module from Stanford NLP Group. "
   ]
  },
  {
   "cell_type": "code",
   "execution_count": null,
   "metadata": {},
   "outputs": [],
   "source": [
    "import pandas as pd\n",
    "import json\n",
    "import time\n",
    "import requests \n",
    "from datetime import datetime \n",
    "import os \n",
    "from sutime import SUTime\n",
    "import dateparser\n",
    "from bs4 import BeautifulSoup\n",
    "from urllib import request"
   ]
  },
  {
   "cell_type": "code",
   "execution_count": 2,
   "metadata": {},
   "outputs": [],
   "source": [
    "def progress_bar(current, total, barLength = 20):\n",
    "    percent = float(current) * 100 / total\n",
    "    arrow   = '-' * int(percent/100 * barLength - 1) + '>'\n",
    "    spaces  = ' ' * (barLength - len(arrow))\n",
    "    print('Progress: [%s%s] %d %%' % (arrow, spaces, percent), end='\\r')"
   ]
  },
  {
   "cell_type": "code",
   "execution_count": 3,
   "metadata": {},
   "outputs": [],
   "source": [
    "# Insert Guardian API key which you can grab here: https://open-platform.theguardian.com/access/ \n",
    "key=\"\""
   ]
  },
  {
   "cell_type": "code",
   "execution_count": null,
   "metadata": {},
   "outputs": [],
   "source": [
    "# sutime set up \n",
    "jar_path = 'jars'\n",
    "jar_files = os.path.join(os.path.abspath(''), jar_path)\n",
    "sutime = SUTime(jars=jar_files, mark_time_ranges=True)"
   ]
  },
  {
   "cell_type": "code",
   "execution_count": 5,
   "metadata": {},
   "outputs": [],
   "source": [
    "# read in full json generated with subreddit_scraper.py:  \n",
    "fs = pd.read_json('august-december-2020.json', lines=True)"
   ]
  },
  {
   "cell_type": "code",
   "execution_count": 6,
   "metadata": {},
   "outputs": [],
   "source": [
    "# locate guardian articles: \n",
    "submissions = fs.loc[fs['domain'] == 'theguardian.com'].reset_index()"
   ]
  },
  {
   "cell_type": "code",
   "execution_count": 7,
   "metadata": {},
   "outputs": [
    {
     "name": "stdout",
     "output_type": "stream",
     "text": [
      "Progress: [------------------> ] 99 %\r"
     ]
    }
   ],
   "source": [
    "# grab web content from urls\n",
    "urls = submissions['url'].tolist()\n",
    "created, date, title, link = [], [], [], []\n",
    "for i in range(len(urls)):\n",
    "    progress_bar(i,len(urls))\n",
    "    try:\n",
    "        page = requests.get(\"https://content.guardianapis.com/\" + urls[i].split(\"guardian.com/\",1)[1] + \"?api-key=\" + key +\"&show-fields=bodyText\")\n",
    "        content = page.json()\n",
    "        text = content[\"response\"][\"content\"][\"fields\"][\"bodyText\"]\n",
    "        ref = content[\"response\"][\"content\"][\"webPublicationDate\"].split(\"T\",1)[0]\n",
    "        h1 = content[\"response\"][\"content\"][\"webTitle\"]\n",
    "        for j in sutime.parse(text, ref):\n",
    "                if j['type'] == \"DATE\":\n",
    "                    if dateparser.parse(j['value']) is not None:\n",
    "                        date.append(dateparser.parse(j['value']).strftime(\"%Y\"))\n",
    "                        created.append(datetime.utcfromtimestamp(submissions['created_utc'][i]).strftime('%Y-%m'))\n",
    "                        link.append(urls[i])\n",
    "                        title.append(h1)\n",
    "    except Exception:\n",
    "        pass"
   ]
  },
  {
   "cell_type": "code",
   "execution_count": 8,
   "metadata": {},
   "outputs": [],
   "source": [
    "articles = pd.DataFrame({'month_published': created, 'year_mentioned': date, 'article': title, 'url': link})"
   ]
  },
  {
   "cell_type": "code",
   "execution_count": 9,
   "metadata": {},
   "outputs": [],
   "source": [
    "# optional drop results where article mentions year it was written:\n",
    "for i in range(len(articles)):\n",
    "    if articles['year_mentioned'][i] in articles['month_published'][i]:\n",
    "        articles.drop(i, inplace=True)"
   ]
  },
  {
   "cell_type": "code",
   "execution_count": 10,
   "metadata": {},
   "outputs": [
    {
     "data": {
      "text/html": [
       "<div>\n",
       "<style scoped>\n",
       "    .dataframe tbody tr th:only-of-type {\n",
       "        vertical-align: middle;\n",
       "    }\n",
       "\n",
       "    .dataframe tbody tr th {\n",
       "        vertical-align: top;\n",
       "    }\n",
       "\n",
       "    .dataframe thead th {\n",
       "        text-align: right;\n",
       "    }\n",
       "</style>\n",
       "<table border=\"1\" class=\"dataframe\">\n",
       "  <thead>\n",
       "    <tr style=\"text-align: right;\">\n",
       "      <th></th>\n",
       "      <th>month_published</th>\n",
       "      <th>year_mentioned</th>\n",
       "      <th>article</th>\n",
       "      <th>url</th>\n",
       "    </tr>\n",
       "  </thead>\n",
       "  <tbody>\n",
       "    <tr>\n",
       "      <th>0</th>\n",
       "      <td>2020-08</td>\n",
       "      <td>2019</td>\n",
       "      <td>More coal power generation closed than opened ...</td>\n",
       "      <td>https://www.theguardian.com/environment/2020/a...</td>\n",
       "    </tr>\n",
       "    <tr>\n",
       "      <th>1</th>\n",
       "      <td>2020-08</td>\n",
       "      <td>2016</td>\n",
       "      <td>More coal power generation closed than opened ...</td>\n",
       "      <td>https://www.theguardian.com/environment/2020/a...</td>\n",
       "    </tr>\n",
       "    <tr>\n",
       "      <th>2</th>\n",
       "      <td>2020-08</td>\n",
       "      <td>2038</td>\n",
       "      <td>More coal power generation closed than opened ...</td>\n",
       "      <td>https://www.theguardian.com/environment/2020/a...</td>\n",
       "    </tr>\n",
       "    <tr>\n",
       "      <th>3</th>\n",
       "      <td>2020-08</td>\n",
       "      <td>2030</td>\n",
       "      <td>More coal power generation closed than opened ...</td>\n",
       "      <td>https://www.theguardian.com/environment/2020/a...</td>\n",
       "    </tr>\n",
       "    <tr>\n",
       "      <th>4</th>\n",
       "      <td>2020-08</td>\n",
       "      <td>2018</td>\n",
       "      <td>More coal power generation closed than opened ...</td>\n",
       "      <td>https://www.theguardian.com/environment/2020/a...</td>\n",
       "    </tr>\n",
       "    <tr>\n",
       "      <th>...</th>\n",
       "      <td>...</td>\n",
       "      <td>...</td>\n",
       "      <td>...</td>\n",
       "      <td>...</td>\n",
       "    </tr>\n",
       "    <tr>\n",
       "      <th>377</th>\n",
       "      <td>2020-12</td>\n",
       "      <td>2021</td>\n",
       "      <td>Floating 'mini-nukes' could power countries by...</td>\n",
       "      <td>https://www.theguardian.com/environment/2020/d...</td>\n",
       "    </tr>\n",
       "    <tr>\n",
       "      <th>378</th>\n",
       "      <td>2020-12</td>\n",
       "      <td>2019</td>\n",
       "      <td>Early humans may have survived the harsh winte...</td>\n",
       "      <td>https://www.theguardian.com/science/2020/dec/2...</td>\n",
       "    </tr>\n",
       "    <tr>\n",
       "      <th>379</th>\n",
       "      <td>2020-12</td>\n",
       "      <td>2019</td>\n",
       "      <td>ESA signs deals for its first reusable transpo...</td>\n",
       "      <td>https://www.theguardian.com/science/2020/dec/2...</td>\n",
       "    </tr>\n",
       "    <tr>\n",
       "      <th>380</th>\n",
       "      <td>2020-12</td>\n",
       "      <td>2023</td>\n",
       "      <td>ESA signs deals for its first reusable transpo...</td>\n",
       "      <td>https://www.theguardian.com/science/2020/dec/2...</td>\n",
       "    </tr>\n",
       "    <tr>\n",
       "      <th>381</th>\n",
       "      <td>2020-12</td>\n",
       "      <td>2019</td>\n",
       "      <td>Microplastics revealed in the placentas of unb...</td>\n",
       "      <td>https://www.theguardian.com/environment/2020/d...</td>\n",
       "    </tr>\n",
       "  </tbody>\n",
       "</table>\n",
       "<p>382 rows × 4 columns</p>\n",
       "</div>"
      ],
      "text/plain": [
       "    month_published year_mentioned  \\\n",
       "0           2020-08           2019   \n",
       "1           2020-08           2016   \n",
       "2           2020-08           2038   \n",
       "3           2020-08           2030   \n",
       "4           2020-08           2018   \n",
       "..              ...            ...   \n",
       "377         2020-12           2021   \n",
       "378         2020-12           2019   \n",
       "379         2020-12           2019   \n",
       "380         2020-12           2023   \n",
       "381         2020-12           2019   \n",
       "\n",
       "                                               article  \\\n",
       "0    More coal power generation closed than opened ...   \n",
       "1    More coal power generation closed than opened ...   \n",
       "2    More coal power generation closed than opened ...   \n",
       "3    More coal power generation closed than opened ...   \n",
       "4    More coal power generation closed than opened ...   \n",
       "..                                                 ...   \n",
       "377  Floating 'mini-nukes' could power countries by...   \n",
       "378  Early humans may have survived the harsh winte...   \n",
       "379  ESA signs deals for its first reusable transpo...   \n",
       "380  ESA signs deals for its first reusable transpo...   \n",
       "381  Microplastics revealed in the placentas of unb...   \n",
       "\n",
       "                                                   url  \n",
       "0    https://www.theguardian.com/environment/2020/a...  \n",
       "1    https://www.theguardian.com/environment/2020/a...  \n",
       "2    https://www.theguardian.com/environment/2020/a...  \n",
       "3    https://www.theguardian.com/environment/2020/a...  \n",
       "4    https://www.theguardian.com/environment/2020/a...  \n",
       "..                                                 ...  \n",
       "377  https://www.theguardian.com/environment/2020/d...  \n",
       "378  https://www.theguardian.com/science/2020/dec/2...  \n",
       "379  https://www.theguardian.com/science/2020/dec/2...  \n",
       "380  https://www.theguardian.com/science/2020/dec/2...  \n",
       "381  https://www.theguardian.com/environment/2020/d...  \n",
       "\n",
       "[382 rows x 4 columns]"
      ]
     },
     "execution_count": 10,
     "metadata": {},
     "output_type": "execute_result"
    }
   ],
   "source": [
    "# drop duplicate rows:\n",
    "articles.drop_duplicates(keep='first',inplace=True)\n",
    "articles = articles.reset_index()\n",
    "del articles['index']\n",
    "articles"
   ]
  },
  {
   "cell_type": "code",
   "execution_count": null,
   "metadata": {},
   "outputs": [],
   "source": [
    "# save:\n",
    "articles.to_csv('guardian_articles_august-december_2020.csv')"
   ]
  }
 ],
 "metadata": {
  "kernelspec": {
   "display_name": "Python 3",
   "language": "python",
   "name": "python3"
  },
  "language_info": {
   "codemirror_mode": {
    "name": "ipython",
    "version": 3
   },
   "file_extension": ".py",
   "mimetype": "text/x-python",
   "name": "python",
   "nbconvert_exporter": "python",
   "pygments_lexer": "ipython3",
   "version": "3.8.2"
  }
 },
 "nbformat": 4,
 "nbformat_minor": 4
}
